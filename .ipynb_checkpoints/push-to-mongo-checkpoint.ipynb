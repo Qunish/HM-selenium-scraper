{
 "cells": [
  {
   "cell_type": "code",
   "execution_count": 3,
   "id": "9a7ee8ea-4a32-4672-ae3f-053a672c65ce",
   "metadata": {},
   "outputs": [],
   "source": [
    "all_data = [{'title': '2-pack round table mats',\n",
    "  'price': 'Rs.399.00',\n",
    "  'image_url': 'https://lp2.hm.com/hmgoepprod?set=source[/f2/6e/f26ea7c4e18ba2266d380b7c48369c14b4bfd68c.jpg],origin[dam],category[],type[LOOKBOOK],res[m],hmver[1]&call=url[file:/product/style]',\n",
    "  'product_url': 'https://www2.hm.com/en_in/productpage.1018932006.html',\n",
    "  'avaialable_colors': 'Greige, Anthracite grey, Light beige, Beige'},\n",
    " {'title': 'Porcelain cup',\n",
    "  'price': 'Rs.699.00',\n",
    "  'image_url': 'https://lp2.hm.com/hmgoepprod?set=source[/8d/e4/8de42d4da3371a0516ec9b861b3117695c66bc1e.jpg],origin[dam],category[home_kitchen_servingware],type[DESCRIPTIVESTILLLIFE],res[m],hmver[2]&call=url[file:/product/style]',\n",
    "  'product_url': 'https://www2.hm.com/en_in/productpage.1178456001.html',\n",
    "  'avaialable_colors': 'White/Take Your Time'}]"
   ]
  },
  {
   "cell_type": "code",
   "execution_count": 4,
   "id": "8779869c-6953-4ebc-b151-dfc3c6da7000",
   "metadata": {},
   "outputs": [
    {
     "name": "stdout",
     "output_type": "stream",
     "text": [
      "Data pushed to MongoDB successfully.\n"
     ]
    }
   ],
   "source": [
    "import pymongo\n",
    "\n",
    "MONGODB_URI = \"mongodb://localhost:27017/\"\n",
    "DATABASE_NAME = \"database_name\"\n",
    "COLLECTION_NAME = \"collection_name\"\n",
    "\n",
    "def push_data_to_mongodb(data):\n",
    "    try:\n",
    "        client = pymongo.MongoClient(MONGODB_URI)\n",
    "        db = client[DATABASE_NAME]\n",
    "        collection = db[COLLECTION_NAME]\n",
    "        collection.insert_many(data)\n",
    "        print(\"Data pushed to MongoDB successfully.\")\n",
    "    except Exception as e:\n",
    "        print(\"Error while pushing data to MongoDB:\", e)\n",
    "    finally:\n",
    "        client.close()\n",
    "\n",
    "push_data_to_mongodb(all_data)\n"
   ]
  },
  {
   "cell_type": "code",
   "execution_count": null,
   "id": "c35558ff-525f-41f2-b229-a0567535f97a",
   "metadata": {},
   "outputs": [],
   "source": []
  }
 ],
 "metadata": {
  "kernelspec": {
   "display_name": "Python 3 (ipykernel)",
   "language": "python",
   "name": "python3"
  },
  "language_info": {
   "codemirror_mode": {
    "name": "ipython",
    "version": 3
   },
   "file_extension": ".py",
   "mimetype": "text/x-python",
   "name": "python",
   "nbconvert_exporter": "python",
   "pygments_lexer": "ipython3",
   "version": "3.9.16"
  }
 },
 "nbformat": 4,
 "nbformat_minor": 5
}
