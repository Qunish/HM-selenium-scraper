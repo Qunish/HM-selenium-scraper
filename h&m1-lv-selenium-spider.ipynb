{
 "cells": [
  {
   "cell_type": "code",
   "execution_count": 1,
   "id": "832d6ac4-294b-457b-b297-6a66e4767447",
   "metadata": {},
   "outputs": [],
   "source": [
    "from selenium import webdriver\n",
    "from selenium.webdriver.common.by import By\n",
    "from selenium.webdriver.support.ui import WebDriverWait\n",
    "from selenium.webdriver.support import expected_conditions as EC\n",
    "import random\n",
    "import pandas as pd"
   ]
  },
  {
   "cell_type": "code",
   "execution_count": 2,
   "id": "926593f1-17d7-43c4-b4cf-c8e5d3673f00",
   "metadata": {},
   "outputs": [
    {
     "data": {
      "text/plain": [
       "'4.10.0'"
      ]
     },
     "execution_count": 2,
     "metadata": {},
     "output_type": "execute_result"
    }
   ],
   "source": [
    "# !Pip install selenium -U\n",
    "import selenium\n",
    "from selenium.webdriver.chrome.service import Service\n",
    "\n",
    "selenium.__version__"
   ]
  },
  {
   "cell_type": "code",
   "execution_count": 3,
   "id": "fad0d6c1-dd69-442f-a6b8-0c15fd53f0d9",
   "metadata": {},
   "outputs": [],
   "source": [
    "USER_AGENT_LIST = ['Mozilla/5.0 (Macintosh; Intel Mac OS X 10_15_7) AppleWebKit/537.36 (KHTML, like Gecko) Chrome/114.0.0.0 Safari/537.36']\n",
    "DRIVER_FILE_PATH = \"/Users/qunishdash/Documents/chromedriver_mac64/chromedriver\""
   ]
  },
  {
   "cell_type": "code",
   "execution_count": 4,
   "id": "2df369c1-2cf2-4917-ac9f-3cc848f53058",
   "metadata": {},
   "outputs": [],
   "source": [
    "def get_chrome_driver(headless_flag):\n",
    "    # Set up the Selenium webdriver\n",
    "    from selenium import webdriver\n",
    "    from selenium.webdriver.chrome.options import Options\n",
    "\n",
    "\n",
    "    service = Service(executable_path=DRIVER_FILE_PATH)\n",
    "\n",
    "    \n",
    "    chrome_options = Options()\n",
    "    if headless_flag:\n",
    "        # in case you want headless browser\n",
    "        \n",
    "        chrome_options.add_argument(\"--headless\")\n",
    "        chrome_options.add_argument(\"--disable-extensions\")\n",
    "        chrome_options.add_argument(\"--disable-gpu\")\n",
    "        chrome_options.add_argument(\"--no-sandbox\")\n",
    "        chrome_options.add_argument(\"--start-maximized\")\n",
    "        chrome_options.add_argument(\"user-agent={}\".format(random.choice(USER_AGENT_LIST)))\n",
    "    \n",
    "    driver = webdriver.Chrome(service=service, options=chrome_options) \n",
    "\n",
    "    return driver"
   ]
  },
  {
   "cell_type": "code",
   "execution_count": 5,
   "id": "71800a58-5f04-4d77-a029-6e1090c4d37f",
   "metadata": {},
   "outputs": [],
   "source": [
    "driver = get_chrome_driver(False)"
   ]
  },
  {
   "cell_type": "code",
   "execution_count": 6,
   "id": "999ed07c-41c3-4fda-b569-366cab58fc35",
   "metadata": {},
   "outputs": [],
   "source": [
    "collection_url = \"https://www2.hm.com/en_in/home/seasonal-trending/inh-home-season-gifting-wk30.html\""
   ]
  },
  {
   "cell_type": "code",
   "execution_count": 7,
   "id": "2a72c145-0d9f-4e77-a762-bac6769a278c",
   "metadata": {},
   "outputs": [],
   "source": [
    "driver.get(collection_url)"
   ]
  },
  {
   "cell_type": "code",
   "execution_count": 8,
   "id": "f7c10de3-5b69-4b9a-a65f-b7525e9c5977",
   "metadata": {},
   "outputs": [
    {
     "name": "stdout",
     "output_type": "stream",
     "text": [
      "yes\n",
      "yes\n",
      "exception  Message: element click intercepted: Element <button class=\"button js-load-more \" data-per-page=\"36\" data-tracking-json-template=\"loadMorePLPTracking\" data-tracking-type=\"event\" data-tracking-params=\"LOAD_MORE_PRODUCTS|... button clicked|Product list interactions|Home : Selected : Inh - Inh_Home_Friends_Wk30 : \">Load more products</button> is not clickable at point (715, 676). Other element would receive the click: <a href=\"/en_in/productpage.1076718015.html\" title=\"Cotton terry guest towel\" class=\"item-link\">...</a>\n",
      "  (Session info: chrome=115.0.5790.170)\n",
      "Stacktrace:\n",
      "0   chromedriver                        0x0000000107ad76b8 chromedriver + 4937400\n",
      "1   chromedriver                        0x0000000107aceb73 chromedriver + 4901747\n",
      "2   chromedriver                        0x000000010768c616 chromedriver + 435734\n",
      "3   chromedriver                        0x00000001076d7b97 chromedriver + 744343\n",
      "4   chromedriver                        0x00000001076d5450 chromedriver + 734288\n",
      "5   chromedriver                        0x00000001076d2a84 chromedriver + 723588\n",
      "6   chromedriver                        0x00000001076d1be4 chromedriver + 719844\n",
      "7   chromedriver                        0x00000001076c41e1 chromedriver + 664033\n",
      "8   chromedriver                        0x00000001076f4012 chromedriver + 860178\n",
      "9   chromedriver                        0x00000001076c39c1 chromedriver + 661953\n",
      "10  chromedriver                        0x00000001076f41ce chromedriver + 860622\n",
      "11  chromedriver                        0x000000010770ee76 chromedriver + 970358\n",
      "12  chromedriver                        0x00000001076f3de3 chromedriver + 859619\n",
      "13  chromedriver                        0x00000001076c1d7f chromedriver + 654719\n",
      "14  chromedriver                        0x00000001076c30de chromedriver + 659678\n",
      "15  chromedriver                        0x0000000107a932ad chromedriver + 4657837\n",
      "16  chromedriver                        0x0000000107a98130 chromedriver + 4677936\n",
      "17  chromedriver                        0x0000000107a9edef chromedriver + 4705775\n",
      "18  chromedriver                        0x0000000107a9905a chromedriver + 4681818\n",
      "19  chromedriver                        0x0000000107a6b92c chromedriver + 4495660\n",
      "20  chromedriver                        0x0000000107ab6838 chromedriver + 4802616\n",
      "21  chromedriver                        0x0000000107ab69b7 chromedriver + 4802999\n",
      "22  chromedriver                        0x0000000107ac799f chromedriver + 4872607\n",
      "23  libsystem_pthread.dylib             0x00007ff817e291d3 _pthread_start + 125\n",
      "24  libsystem_pthread.dylib             0x00007ff817e24bd3 thread_start + 15\n",
      "\n",
      "No load more button\n"
     ]
    }
   ],
   "source": [
    "while True:\n",
    "    try:\n",
    "        print(\"yes\")\n",
    "        load_more_button = WebDriverWait(driver, 3).until(EC.element_to_be_clickable((By.CSS_SELECTOR, '.js-load-more')))\n",
    "        load_more_button.click()\n",
    "        WebDriverWait(driver, 5).until(EC.invisibility_of_element_located((By.XPATH, '//div[@class=\"loading-spinner\"]')))\n",
    "    except Exception as e:\n",
    "        print(\"exception \",e)\n",
    "        print(\"No load more button\")\n",
    "        break"
   ]
  },
  {
   "cell_type": "code",
   "execution_count": 10,
   "id": "6ff6429a-ad0b-4e3d-af9d-1daf20018bb5",
   "metadata": {},
   "outputs": [],
   "source": [
    "from selenium.webdriver.common.by import By\n",
    "\n",
    "all_cards = driver.find_elements(By.CSS_SELECTOR, '.hm-product-item')"
   ]
  },
  {
   "cell_type": "code",
   "execution_count": 11,
   "id": "899f7a57-5a79-40bc-bb90-466a6ba562d5",
   "metadata": {},
   "outputs": [],
   "source": [
    "# list(all_cards)"
   ]
  },
  {
   "cell_type": "code",
   "execution_count": 12,
   "id": "183c452a-299a-45df-b56c-5d4674d169f2",
   "metadata": {},
   "outputs": [],
   "source": [
    "def get_card_data(card):\n",
    "    try:\n",
    "        title = driver.find_element(By.CLASS_NAME, \"item-heading\").text\n",
    "    except Exception as e:\n",
    "        title = ''\n",
    "    \n",
    "    try:\n",
    "        price = driver.find_element(By.CLASS_NAME, \"regular\").text\n",
    "    except Exception as e:\n",
    "        price = ''\n",
    "    \n",
    "    try:\n",
    "        image_url = driver.find_element(By.CLASS_NAME, \"item-image\").get_attribute(\"src\")\n",
    "    except Exception as e:\n",
    "        image_url = ''\n",
    "    \n",
    "    try:\n",
    "        product_url = driver.find_element(By.CLASS_NAME, \"link\").get_attribute(\"href\")\n",
    "    except Exception as e:\n",
    "        product_url = ''\n",
    "    \n",
    "    try:\n",
    "        available_colors = driver.find_element(By.CLASS_NAME, \"list-swatches\").text.replace(\"\\n\", \", \")\n",
    "    except Exception as e:\n",
    "        available_colors = '' \n",
    "        \n",
    "    result = {\n",
    "        \"title\": title,\n",
    "        \"price\": price,\n",
    "        \"image_url\": image_url,\n",
    "        \"product_url\": product_url,\n",
    "        \"available_colors\": available_colors\n",
    "    }\n",
    "    \n",
    "    return result"
   ]
  },
  {
   "cell_type": "code",
   "execution_count": 13,
   "id": "4307a6b2-58e2-40d2-a468-0ca5e8e3a1f4",
   "metadata": {},
   "outputs": [],
   "source": [
    "all_data = []"
   ]
  },
  {
   "cell_type": "code",
   "execution_count": 14,
   "id": "3449b699-ce48-4aba-a360-9488b80d7537",
   "metadata": {},
   "outputs": [],
   "source": [
    "for card in all_cards:\n",
    "    card_result = get_card_data(card)\n",
    "    all_data.append(card_result)"
   ]
  },
  {
   "cell_type": "code",
   "execution_count": 15,
   "id": "c00bafc4-82ff-4aa5-bad4-ceb03f1da304",
   "metadata": {
    "scrolled": true
   },
   "outputs": [
    {
     "data": {
      "text/plain": [
       "[{'title': '2-pack round table mats',\n",
       "  'price': 'Rs.399.00',\n",
       "  'image_url': 'https://lp2.hm.com/hmgoepprod?set=source[/f2/6e/f26ea7c4e18ba2266d380b7c48369c14b4bfd68c.jpg],origin[dam],category[],type[LOOKBOOK],res[m],hmver[1]&call=url[file:/product/style]',\n",
       "  'product_url': 'https://www2.hm.com/en_in/productpage.1018932006.html',\n",
       "  'available_colors': 'Greige, Anthracite grey, Light beige, Beige'},\n",
       " {'title': '2-pack round table mats',\n",
       "  'price': 'Rs.399.00',\n",
       "  'image_url': 'https://lp2.hm.com/hmgoepprod?set=source[/f2/6e/f26ea7c4e18ba2266d380b7c48369c14b4bfd68c.jpg],origin[dam],category[],type[LOOKBOOK],res[m],hmver[1]&call=url[file:/product/style]',\n",
       "  'product_url': 'https://www2.hm.com/en_in/productpage.1018932006.html',\n",
       "  'available_colors': 'Greige, Anthracite grey, Light beige, Beige'}]"
      ]
     },
     "execution_count": 15,
     "metadata": {},
     "output_type": "execute_result"
    }
   ],
   "source": [
    "all_data[:2]"
   ]
  },
  {
   "cell_type": "code",
   "execution_count": 16,
   "id": "a76007ae-f1d5-44c9-a1f8-4e1adaa65080",
   "metadata": {},
   "outputs": [
    {
     "data": {
      "text/plain": [
       "72"
      ]
     },
     "execution_count": 16,
     "metadata": {},
     "output_type": "execute_result"
    }
   ],
   "source": [
    "len(all_data)"
   ]
  },
  {
   "cell_type": "code",
   "execution_count": 17,
   "id": "1a3396f0-b404-43da-a3d6-bd8235604d1e",
   "metadata": {},
   "outputs": [
    {
     "name": "stdout",
     "output_type": "stream",
     "text": [
      "Data pushed to MongoDB successfully.\n"
     ]
    }
   ],
   "source": [
    "import pymongo\n",
    "\n",
    "MONGODB_URI = \"mongodb://localhost:27017/\"\n",
    "DATABASE_NAME = \"h&m_data_db\"\n",
    "COLLECTION_NAME = \"home_essentials\"\n",
    "\n",
    "def push_data_to_mongodb(data):\n",
    "    try:\n",
    "        client = pymongo.MongoClient(MONGODB_URI)\n",
    "        db = client[DATABASE_NAME]\n",
    "        collection = db[COLLECTION_NAME]\n",
    "        collection.insert_many(data)\n",
    "        print(\"Data pushed to MongoDB successfully.\")\n",
    "    except Exception as e:\n",
    "        print(\"Error while pushing data to MongoDB:\", e)\n",
    "    finally:\n",
    "        client.close()\n",
    "\n",
    "push_data_to_mongodb(all_data)"
   ]
  },
  {
   "cell_type": "code",
   "execution_count": 15,
   "id": "0d578b8e-2bae-45e7-ab92-510b0a862315",
   "metadata": {},
   "outputs": [
    {
     "name": "stdout",
     "output_type": "stream",
     "text": [
      "(72, 5)\n"
     ]
    },
    {
     "data": {
      "text/html": [
       "<div>\n",
       "<style scoped>\n",
       "    .dataframe tbody tr th:only-of-type {\n",
       "        vertical-align: middle;\n",
       "    }\n",
       "\n",
       "    .dataframe tbody tr th {\n",
       "        vertical-align: top;\n",
       "    }\n",
       "\n",
       "    .dataframe thead th {\n",
       "        text-align: right;\n",
       "    }\n",
       "</style>\n",
       "<table border=\"1\" class=\"dataframe\">\n",
       "  <thead>\n",
       "    <tr style=\"text-align: right;\">\n",
       "      <th></th>\n",
       "      <th>title</th>\n",
       "      <th>price</th>\n",
       "      <th>image_url</th>\n",
       "      <th>product_url</th>\n",
       "      <th>avaialable_colors</th>\n",
       "    </tr>\n",
       "  </thead>\n",
       "  <tbody>\n",
       "    <tr>\n",
       "      <th>0</th>\n",
       "      <td></td>\n",
       "      <td></td>\n",
       "      <td></td>\n",
       "      <td></td>\n",
       "      <td></td>\n",
       "    </tr>\n",
       "    <tr>\n",
       "      <th>1</th>\n",
       "      <td></td>\n",
       "      <td></td>\n",
       "      <td></td>\n",
       "      <td></td>\n",
       "      <td></td>\n",
       "    </tr>\n",
       "    <tr>\n",
       "      <th>2</th>\n",
       "      <td></td>\n",
       "      <td></td>\n",
       "      <td></td>\n",
       "      <td></td>\n",
       "      <td></td>\n",
       "    </tr>\n",
       "    <tr>\n",
       "      <th>3</th>\n",
       "      <td></td>\n",
       "      <td></td>\n",
       "      <td></td>\n",
       "      <td></td>\n",
       "      <td></td>\n",
       "    </tr>\n",
       "    <tr>\n",
       "      <th>4</th>\n",
       "      <td></td>\n",
       "      <td></td>\n",
       "      <td></td>\n",
       "      <td></td>\n",
       "      <td></td>\n",
       "    </tr>\n",
       "  </tbody>\n",
       "</table>\n",
       "</div>"
      ],
      "text/plain": [
       "  title price image_url product_url avaialable_colors\n",
       "0                                                    \n",
       "1                                                    \n",
       "2                                                    \n",
       "3                                                    \n",
       "4                                                    "
      ]
     },
     "execution_count": 15,
     "metadata": {},
     "output_type": "execute_result"
    }
   ],
   "source": [
    "# create dataframe from result\n",
    "df = pd.DataFrame(all_data)\n",
    "print(df.shape)\n",
    "df.head()"
   ]
  },
  {
   "cell_type": "code",
   "execution_count": null,
   "id": "e71cb942-48d9-40a8-9ea5-7593b6f22358",
   "metadata": {},
   "outputs": [],
   "source": [
    "# save file to local\n",
    "df.to_excel(\"h&m.xlsx\",header=True,index=False)"
   ]
  },
  {
   "cell_type": "code",
   "execution_count": 15,
   "id": "9069ed8c-f9d5-4ebf-abb1-88bdca4c12ed",
   "metadata": {},
   "outputs": [],
   "source": [
    "driver.close()"
   ]
  }
 ],
 "metadata": {
  "kernelspec": {
   "display_name": "Python 3 (ipykernel)",
   "language": "python",
   "name": "python3"
  },
  "language_info": {
   "codemirror_mode": {
    "name": "ipython",
    "version": 3
   },
   "file_extension": ".py",
   "mimetype": "text/x-python",
   "name": "python",
   "nbconvert_exporter": "python",
   "pygments_lexer": "ipython3",
   "version": "3.9.16"
  },
  "widgets": {
   "application/vnd.jupyter.widget-state+json": {
    "state": {},
    "version_major": 2,
    "version_minor": 0
   }
  }
 },
 "nbformat": 4,
 "nbformat_minor": 5
}
