{
 "cells": [
  {
   "cell_type": "code",
   "execution_count": 1,
   "id": "832d6ac4-294b-457b-b297-6a66e4767447",
   "metadata": {},
   "outputs": [],
   "source": [
    "from selenium import webdriver\n",
    "from selenium.webdriver.common.by import By\n",
    "from selenium.webdriver.support.ui import WebDriverWait\n",
    "from selenium.webdriver.support import expected_conditions as EC\n",
    "import random\n",
    "import pandas as pd\n",
    "from selenium.webdriver.chrome.service import Service"
   ]
  },
  {
   "cell_type": "code",
   "execution_count": 2,
   "id": "fad0d6c1-dd69-442f-a6b8-0c15fd53f0d9",
   "metadata": {},
   "outputs": [],
   "source": [
    "USER_AGENT_LIST = ['Mozilla/5.0 (Macintosh; Intel Mac OS X 10_15_7) AppleWebKit/537.36 (KHTML, like Gecko) Chrome/114.0.0.0 Safari/537.36']\n",
    "DRIVER_FILE_PATH = \"/Users/qunishdash/Documents/chromedriver_mac64/chromedriver\""
   ]
  },
  {
   "cell_type": "code",
   "execution_count": 3,
   "id": "2df369c1-2cf2-4917-ac9f-3cc848f53058",
   "metadata": {},
   "outputs": [],
   "source": [
    "def get_chrome_driver(headless_flag):\n",
    "    # Set up the Selenium webdriver\n",
    "    from selenium import webdriver\n",
    "    from selenium.webdriver.chrome.options import Options\n",
    "    \n",
    "    service = Service(executable_path=DRIVER_FILE_PATH)\n",
    "    chrome_options = Options()\n",
    "\n",
    "    if headless_flag:\n",
    "        # in case you want headless browser\n",
    "        chrome_options.add_argument(\"--headless\")\n",
    "        chrome_options.add_argument(\"--disable-extensions\")\n",
    "        chrome_options.add_argument(\"--disable-gpu\")\n",
    "        chrome_options.add_argument(\"--no-sandbox\")\n",
    "        chrome_options.add_argument(\"--start-maximized\")\n",
    "        chrome_options.add_argument(\"user-agent={}\".format(random.choice(USER_AGENT_LIST)))\n",
    "\n",
    "    else:\n",
    "        # in case  you want to open browser\n",
    "        chrome_options.add_argument(\"--start-maximized\")\n",
    "        chrome_options.add_argument(\"user-agent={}\".format(random.choice(USER_AGENT_LIST)))\n",
    "        chrome_options.headless = False\n",
    "\n",
    "    driver = webdriver.Chrome(service=service, options=chrome_options) \n",
    "\n",
    "    return driver"
   ]
  },
  {
   "cell_type": "code",
   "execution_count": 4,
   "id": "71800a58-5f04-4d77-a029-6e1090c4d37f",
   "metadata": {},
   "outputs": [
    {
     "name": "stderr",
     "output_type": "stream",
     "text": [
      "/var/folders/fh/yk5wd4g14xd7qzb16xnjp2ww0000gn/T/ipykernel_32530/2181109460.py:22: DeprecationWarning: headless property is deprecated, instead use add_argument('--headless') or add_argument('--headless=new')\n",
      "  chrome_options.headless = False\n"
     ]
    }
   ],
   "source": [
    "driver = get_chrome_driver(False)"
   ]
  },
  {
   "cell_type": "code",
   "execution_count": 5,
   "id": "999ed07c-41c3-4fda-b569-366cab58fc35",
   "metadata": {},
   "outputs": [],
   "source": [
    "collection_url = \"https://www2.hm.com/en_in/productpage.1018932006.html\""
   ]
  },
  {
   "cell_type": "code",
   "execution_count": 6,
   "id": "2a72c145-0d9f-4e77-a762-bac6769a278c",
   "metadata": {},
   "outputs": [],
   "source": [
    "driver.get(collection_url)"
   ]
  },
  {
   "cell_type": "code",
   "execution_count": 23,
   "id": "371d10dc-4815-4374-bf24-34bb45b2dbcd",
   "metadata": {},
   "outputs": [],
   "source": [
    "def get_product_data(card):\n",
    "    \n",
    "    from selenium.webdriver.common.by import By\n",
    "\n",
    "    try:\n",
    "        # # Click on the description button to expand the description if it's hidden.\n",
    "        # description_button = driver.find_element(By.CSS_SELECTOR, '#toggle-descriptionAccordion')\n",
    "        # description_button.click()\n",
    "    \n",
    "        # description = driver.find_element(By.CSS_SELECTOR, \"#section-descriptionAccordion\").text\n",
    "        description = driver.find_element(By.XPATH, '//*[@id=\"section-descriptionAccordion\"]').text\n",
    "        # article_number = driver.find_element(By.CSS_SELECTOR, \"d1cd7b b7f566 a0f363\").text\n",
    "        # result[\"description\"] = description\n",
    "    except Exception as e:\n",
    "        description = ''\n",
    "        # article_number = ''\n",
    "    \n",
    "    # try:\n",
    "    #     # Click on the material button to expand the material if it's hidden.\n",
    "    #     material_button = driver.find_element(By.CSS_SELECTOR, '#toggle-materialsAndSuppliersAccordion')\n",
    "    #     material_button.click()\n",
    "    \n",
    "    #     material = driver.find_element(By.CSS_SELECTOR, \"#section-materialsAndSuppliersAccordion\").text\n",
    "    #     # result[\"material\"] = material\n",
    "    # except Exception as e:\n",
    "    #     material = ''\n",
    "    \n",
    "    # try:\n",
    "    #     # Click on the review button to expand the material if it's hidden.\n",
    "    #     review_button = driver.find_element(By.CSS_SELECTOR, \".wc-turn-to-reviews-button\")\n",
    "    #     review_button.click()\n",
    "    \n",
    "    #     # Extract the values of data-rating and data-review-count attributes.\n",
    "    #     rating = button_element.get_attribute(\".BodyText-module--general__jkobl\").text\n",
    "    #     review_count = button_element.get_attribute(\".ModalTitle-module--heading__1Qpi8 ModalTitle-module--center__kMctM\").text\n",
    "    \n",
    "    # except Exception as e:\n",
    "    #     rating = ''\n",
    "    #     review_count = ''\n",
    "    \n",
    "    try:\n",
    "        review_count = driver.find_element(By.CSS_SELECTOR, \"CTA-module--action__1qN9s CTA-module--medium__1uoRl CTA-module--reset__1G6AO\").text\n",
    "    except Exception as e:\n",
    "        review_count = ''\n",
    "    \n",
    "    try:\n",
    "        product_color = driver.find_element(By.CSS_SELECTOR, \".loaded\").text\n",
    "    except Exception as e:\n",
    "        product_color = ''\n",
    "    \n",
    "    try:\n",
    "        size = driver.find_element(By.CSS_SELECTOR, \".BodyText-module--preamble__3N-9V\").text.strip('Size: ')\n",
    "    except Exception as e:\n",
    "        size = ''\n",
    "\n",
    "\n",
    "    result = {\n",
    "        \"description\": description,\n",
    "        # \"article_number\": article_number,\n",
    "        # \"material\": material,\n",
    "        # \"rating\": rating,\n",
    "        \"review_count\": review_count,\n",
    "        \"size\": size,\n",
    "        \"product_color\": product_color,\n",
    "    }\n",
    "\n",
    "    return result"
   ]
  },
  {
   "cell_type": "code",
   "execution_count": 24,
   "id": "825a8894-ffb6-4515-94d2-78b55285583e",
   "metadata": {},
   "outputs": [
    {
     "name": "stdout",
     "output_type": "stream",
     "text": [
      "{'description': '', 'review_count': '', 'size': 'D38', 'product_color': 'Greige'}\n"
     ]
    }
   ],
   "source": [
    "product_data = get_product_data(driver)\n",
    "print(product_data)"
   ]
  },
  {
   "cell_type": "code",
   "execution_count": 149,
   "id": "9069ed8c-f9d5-4ebf-abb1-88bdca4c12ed",
   "metadata": {},
   "outputs": [],
   "source": [
    "driver.quit()"
   ]
  },
  {
   "cell_type": "code",
   "execution_count": null,
   "id": "e0e8bbf9-7499-4731-87a2-be001e608874",
   "metadata": {},
   "outputs": [],
   "source": []
  }
 ],
 "metadata": {
  "kernelspec": {
   "display_name": "Python 3 (ipykernel)",
   "language": "python",
   "name": "python3"
  },
  "language_info": {
   "codemirror_mode": {
    "name": "ipython",
    "version": 3
   },
   "file_extension": ".py",
   "mimetype": "text/x-python",
   "name": "python",
   "nbconvert_exporter": "python",
   "pygments_lexer": "ipython3",
   "version": "3.9.16"
  }
 },
 "nbformat": 4,
 "nbformat_minor": 5
}
